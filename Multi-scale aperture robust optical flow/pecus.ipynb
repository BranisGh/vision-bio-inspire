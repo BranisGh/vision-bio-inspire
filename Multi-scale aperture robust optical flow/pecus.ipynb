{
 "cells": [
  {
   "cell_type": "code",
   "execution_count": 5,
   "metadata": {},
   "outputs": [],
   "source": [
    "import os\n",
    "import scipy.io"
   ]
  },
  {
   "cell_type": "code",
   "execution_count": 2,
   "metadata": {},
   "outputs": [
    {
     "data": {
      "text/plain": [
       "'c:\\\\Users\\\\Brani\\\\OneDrive\\\\Bureau\\\\GitHub\\\\vision-bio-inspire\\\\Multi-scale aperture robust optical flow'"
      ]
     },
     "execution_count": 2,
     "metadata": {},
     "output_type": "execute_result"
    }
   ],
   "source": [
    "# Récupération du chemin courant\n",
    "current_path = os.path.dirname(os.path.abspath('__file__'))\n",
    "current_path"
   ]
  },
  {
   "cell_type": "code",
   "execution_count": 3,
   "metadata": {},
   "outputs": [
    {
     "data": {
      "text/plain": [
       "'c:\\\\Users\\\\Brani\\\\OneDrive\\\\Bureau\\\\GitHub\\\\vision-bio-inspire\\\\Multi-scale aperture robust optical flow\\\\data'"
      ]
     },
     "execution_count": 3,
     "metadata": {},
     "output_type": "execute_result"
    }
   ],
   "source": [
    "full_path_data = os.path.join(current_path, 'data')\n",
    "full_path_data"
   ]
  },
  {
   "cell_type": "code",
   "execution_count": 4,
   "metadata": {},
   "outputs": [],
   "source": [
    "name_data_file = 'multipattern1.mat'\n",
    "path_file_data = os.path.join(full_path_data, name_data_file)"
   ]
  },
  {
   "cell_type": "code",
   "execution_count": 6,
   "metadata": {},
   "outputs": [
    {
     "data": {
      "text/plain": [
       "{'__header__': b'MATLAB 5.0 MAT-file, Platform: PCWIN64, Created on: Fri Oct 28 07:56:34 2022',\n",
       " '__version__': '1.0',\n",
       " '__globals__': [],\n",
       " 'ts': array([[      7],\n",
       "        [     36],\n",
       "        [     42],\n",
       "        ...,\n",
       "        [5799954],\n",
       "        [5799995],\n",
       "        [5799999]]),\n",
       " 'x': array([[229],\n",
       "        [215],\n",
       "        [147],\n",
       "        ...,\n",
       "        [ 15],\n",
       "        [223],\n",
       "        [224]], dtype=uint16),\n",
       " 'y': array([[ 84],\n",
       "        [165],\n",
       "        [120],\n",
       "        ...,\n",
       "        [150],\n",
       "        [156],\n",
       "        [166]], dtype=uint8),\n",
       " 'p': array([[-1],\n",
       "        [ 1],\n",
       "        [-1],\n",
       "        ...,\n",
       "        [-1],\n",
       "        [ 1],\n",
       "        [-1]], dtype=int16)}"
      ]
     },
     "execution_count": 6,
     "metadata": {},
     "output_type": "execute_result"
    }
   ],
   "source": [
    "# Chargement du fichier .mat\n",
    "data = scipy.io.loadmat(path_file_data)\n",
    "data"
   ]
  },
  {
   "cell_type": "code",
   "execution_count": 7,
   "metadata": {},
   "outputs": [],
   "source": [
    "# Accès aux données du fichier .mat\n",
    "ts = data['ts']\n",
    "x = data['x']\n",
    "y = data['y']\n",
    "p = data['p']"
   ]
  },
  {
   "cell_type": "code",
   "execution_count": 9,
   "metadata": {},
   "outputs": [
    {
     "data": {
      "text/plain": [
       "((1255559, 1), (1255559, 1), (1255559, 1), (1255559, 1))"
      ]
     },
     "execution_count": 9,
     "metadata": {},
     "output_type": "execute_result"
    }
   ],
   "source": [
    "ts.shape, x.shape, y.shape, p.shape"
   ]
  },
  {
   "cell_type": "code",
   "execution_count": null,
   "metadata": {},
   "outputs": [],
   "source": []
  }
 ],
 "metadata": {
  "kernelspec": {
   "display_name": "env_ML",
   "language": "python",
   "name": "python3"
  },
  "language_info": {
   "codemirror_mode": {
    "name": "ipython",
    "version": 3
   },
   "file_extension": ".py",
   "mimetype": "text/x-python",
   "name": "python",
   "nbconvert_exporter": "python",
   "pygments_lexer": "ipython3",
   "version": "3.10.4"
  },
  "orig_nbformat": 4,
  "vscode": {
   "interpreter": {
    "hash": "3aeec228df1f54caf4e0351da5a2d0a118f716cc91cd17ac0ce0027b95db8302"
   }
  }
 },
 "nbformat": 4,
 "nbformat_minor": 2
}
